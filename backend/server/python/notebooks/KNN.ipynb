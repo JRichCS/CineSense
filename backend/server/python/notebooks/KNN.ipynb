{
 "cells": [
  {
   "cell_type": "code",
   "execution_count": 49,
   "id": "ffd7ec1d",
   "metadata": {},
   "outputs": [],
   "source": [
    "import pandas as pd\n",
    "import numpy as np\n",
    "from sklearn.preprocessing import StandardScaler\n",
    "from sklearn.neighbors import NearestNeighbors\n",
    "from sklearn.metrics.pairwise import cosine_similarity\n",
    "from collections import Counter\n",
    "\n",
    "import pickle"
   ]
  },
  {
   "cell_type": "code",
   "execution_count": 60,
   "id": "63846ba9",
   "metadata": {},
   "outputs": [],
   "source": [
    "df = pd.read_csv(\"fullDataset.csv\")\n",
    "\n",
    "\n",
    "tconsts = df['tconst']\n",
    "df.set_index('tconst', inplace=True)\n",
    "\n",
    "#df = df.drop('primaryTitle')\n",
    "\n",
    "numeric_cols = [\"startYear\", \"runtimeMinutes\", \"rating\"]\n",
    "binary_cols = list(df.columns)\n",
    "binary_cols.remove(\"startYear\")\n",
    "binary_cols.remove(\"runtimeMinutes\")\n",
    "binary_cols.remove(\"rating\")\n",
    "binary_cols.remove(\"primaryTitle\")\n",
    "\n",
    "\n",
    "\n"
   ]
  },
  {
   "cell_type": "code",
   "execution_count": 61,
   "id": "4bb48199",
   "metadata": {},
   "outputs": [
    {
     "name": "stdout",
     "output_type": "stream",
     "text": [
      "['primaryGenre_Adult', 'primaryGenre_Adventure', 'primaryGenre_Animation', 'primaryGenre_Biography', 'primaryGenre_Comedy', 'primaryGenre_Crime', 'primaryGenre_Documentary', 'primaryGenre_Drama', 'primaryGenre_Family', 'primaryGenre_Fantasy', 'primaryGenre_Film-Noir', 'primaryGenre_History', 'primaryGenre_Horror', 'primaryGenre_Music', 'primaryGenre_Musical', 'primaryGenre_Mystery', 'primaryGenre_News', 'primaryGenre_Reality-TV', 'primaryGenre_Romance', 'primaryGenre_Sci-Fi', 'primaryGenre_Science Fiction', 'primaryGenre_Short', 'primaryGenre_Sport', 'primaryGenre_TV Movie', 'primaryGenre_Thriller', 'primaryGenre_War', 'primaryGenre_Western', 'primaryGenre_\\\\N', 'actor1_', 'actor1_nm0000115', 'actor1_nm0000158', 'actor1_nm0000134', 'actor1_nm0001191', 'actor1_nm0000329', 'actor1_nm0000136', 'actor1_nm0000246', 'actor1_nm0000142', 'actor1_nm0000230', 'actor1_nm0000154', 'actor1_nm0000243', 'actor1_nm0000206', 'actor1_nm0000129', 'actor1_nm0000242', 'actor1_nm0000553', 'actor1_nm0000552', 'actor1_nm0425005', 'actor1_nm0000216', 'actor1_nm0000354', 'actor1_other', 'actor2_', 'actor2_nm0000305', 'actor2_nm0000151', 'actor2_nm0000168', 'actor2_nm0000194', 'actor2_nm0000246', 'actor2_nm0000173', 'actor2_nm0000169', 'actor2_nm0000401', 'actor2_nm0001426', 'actor2_nm0000134', 'actor2_nm0000437', 'actor2_nm0000198', 'actor2_nm0000473', 'actor2_nm0000367', 'actor2_nm0005351', 'actor2_nm0005562', 'actor2_nm0000098', 'actor2_nm0126284', 'actor2_nm0000179', 'actor2_other', 'directors_', 'directors_nm0000095', 'directors_nm0000142', 'directors_nm0000217', 'directors_nm0000229', 'directors_nm0000033', 'directors_nm0000631', 'directors_nm0000165', 'directors_nm0001752', 'directors_nm0005062', 'directors_other']\n"
     ]
    }
   ],
   "source": [
    "print(binary_cols)"
   ]
  },
  {
   "cell_type": "code",
   "execution_count": 62,
   "id": "d5334285",
   "metadata": {},
   "outputs": [],
   "source": [
    "scaler = StandardScaler()\n",
    "scaled_numeric = scaler.fit_transform(df[numeric_cols])\n",
    "scaled_numeric_df = pd.DataFrame(scaled_numeric, columns=numeric_cols, index=df.index)"
   ]
  },
  {
   "cell_type": "code",
   "execution_count": 63,
   "id": "25aa9497",
   "metadata": {},
   "outputs": [],
   "source": [
    "df_features = pd.concat([scaled_numeric_df, df[binary_cols]], axis=1)\n"
   ]
  },
  {
   "cell_type": "code",
   "execution_count": 71,
   "id": "ca424c6f",
   "metadata": {},
   "outputs": [],
   "source": [
    "df_features.to_csv(\"scaled_dataset.csv\", index=False)"
   ]
  },
  {
   "cell_type": "code",
   "execution_count": 68,
   "id": "5f76f56f",
   "metadata": {},
   "outputs": [],
   "source": [
    "def get_similar_movies_cosine(input_ids, per_movie_recommendations=2):\n",
    "    recommendations = []\n",
    "\n",
    "    for movie_id in input_ids:\n",
    "        if movie_id not in df_features.index:\n",
    "            continue\n",
    "\n",
    "        vector = df_features.loc[movie_id].values.reshape(1, -1)\n",
    "\n",
    "        # Compute cosine similarity between this movie and all others\n",
    "        similarities = cosine_similarity(vector, df_features.values)[0]\n",
    "\n",
    "        sim_series = pd.Series(similarities, index=df_features.index)\n",
    "        sim_series = sim_series.drop(labels=[movie_id])  # remove self\n",
    "\n",
    "        top_ids = sim_series.sort_values(ascending=False).head(per_movie_recommendations).index.tolist()\n",
    "        recommendations.extend(top_ids)\n",
    "\n",
    "    if not recommendations:\n",
    "        raise ValueError(\"No valid recommendations could be made from the input IDs.\")\n",
    "\n",
    "    return recommendations"
   ]
  },
  {
   "cell_type": "code",
   "execution_count": 70,
   "id": "fd4bc082",
   "metadata": {},
   "outputs": [
    {
     "name": "stdout",
     "output_type": "stream",
     "text": [
      "Top similar movies: ['tt0137523', 'tt0073486', 'tt0110912', 'tt0086250']\n"
     ]
    }
   ],
   "source": [
    "test_ids = ['tt0111161', 'tt0068646']  # The Shawshank Redemption & The Godfather\n",
    "try:\n",
    "    results = get_similar_movies_cosine(test_ids, per_movie_recommendations=2)\n",
    "\n",
    "    print(\"Top similar movies:\", results)\n",
    "except ValueError as e:\n",
    "    print(\"Error:\", e)"
   ]
  }
 ],
 "metadata": {
  "kernelspec": {
   "display_name": "base",
   "language": "python",
   "name": "python3"
  },
  "language_info": {
   "codemirror_mode": {
    "name": "ipython",
    "version": 3
   },
   "file_extension": ".py",
   "mimetype": "text/x-python",
   "name": "python",
   "nbconvert_exporter": "python",
   "pygments_lexer": "ipython3",
   "version": "3.12.7"
  }
 },
 "nbformat": 4,
 "nbformat_minor": 5
}
