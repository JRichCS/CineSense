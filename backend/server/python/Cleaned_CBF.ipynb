{
 "cells": [
  {
   "cell_type": "code",
   "execution_count": 13,
   "id": "ae784cdd",
   "metadata": {},
   "outputs": [
    {
     "name": "stdout",
     "output_type": "stream",
     "text": [
      "Training columns: Index(['runtimeMinutes', 'rating', 'primaryGenre_Adult',\n",
      "       'primaryGenre_Adventure', 'primaryGenre_Animation',\n",
      "       'primaryGenre_Biography', 'primaryGenre_Comedy', 'primaryGenre_Crime',\n",
      "       'primaryGenre_Documentary', 'primaryGenre_Drama', 'primaryGenre_Family',\n",
      "       'primaryGenre_Fantasy', 'primaryGenre_Film-Noir',\n",
      "       'primaryGenre_History', 'primaryGenre_Horror', 'primaryGenre_Music',\n",
      "       'primaryGenre_Musical', 'primaryGenre_Mystery', 'primaryGenre_News',\n",
      "       'primaryGenre_Reality-TV', 'primaryGenre_Romance',\n",
      "       'primaryGenre_Sci-Fi', 'primaryGenre_Short', 'primaryGenre_Sport',\n",
      "       'primaryGenre_Thriller', 'primaryGenre_War', 'primaryGenre_Western',\n",
      "       'primaryGenre_\\N', 'directors_count', 'actor1_count', 'actor2_count'],\n",
      "      dtype='object')\n",
      "Scaled data columns: Index(['runtimeMinutes', 'rating', 'primaryGenre_Adult',\n",
      "       'primaryGenre_Adventure', 'primaryGenre_Animation',\n",
      "       'primaryGenre_Biography', 'primaryGenre_Comedy', 'primaryGenre_Crime',\n",
      "       'primaryGenre_Documentary', 'primaryGenre_Drama', 'primaryGenre_Family',\n",
      "       'primaryGenre_Fantasy', 'primaryGenre_Film-Noir',\n",
      "       'primaryGenre_History', 'primaryGenre_Horror', 'primaryGenre_Music',\n",
      "       'primaryGenre_Musical', 'primaryGenre_Mystery', 'primaryGenre_News',\n",
      "       'primaryGenre_Reality-TV', 'primaryGenre_Romance',\n",
      "       'primaryGenre_Sci-Fi', 'primaryGenre_Short', 'primaryGenre_Sport',\n",
      "       'primaryGenre_Thriller', 'primaryGenre_War', 'primaryGenre_Western',\n",
      "       'primaryGenre_\\N', 'directors_count', 'actor1_count', 'actor2_count'],\n",
      "      dtype='object')\n",
      "✅ Model, data, and scaled features saved for Flask API.\n"
     ]
    }
   ],
   "source": [
    "# 📦 Imports\n",
    "import pandas as pd\n",
    "import numpy as np\n",
    "from sklearn.preprocessing import StandardScaler\n",
    "from sklearn.neighbors import NearestNeighbors\n",
    "import pickle\n",
    "\n",
    "# 📂 Load the dataset\n",
    "df = pd.read_csv(\"movieDataset.csv\")\n",
    "\n",
    "# 🧹 Clean and Weight Features\n",
    "# (Make sure the weighted columns exist)\n",
    "for col in ['directors_count', 'actor1_count', 'actor2_count', 'rating']:\n",
    "    if col in df.columns:\n",
    "        if col == 'directors_count':\n",
    "            df[col] *= 3\n",
    "        elif col in ['actor1_count', 'actor2_count', 'rating']:\n",
    "            df[col] *= 2\n",
    "\n",
    "# 🔎 Keep a reference to IMDb IDs (tconst) and save it separately\n",
    "tconsts = df['tconst']\n",
    "\n",
    "# Set tconst as index, but it will not be included in the feature scaling\n",
    "df.set_index('tconst', inplace=True)\n",
    "\n",
    "# 🧼 Drop non-numeric columns before training\n",
    "non_numeric_cols = ['primaryTitle', 'startYear']\n",
    "df_train = df.drop(columns=non_numeric_cols, errors='ignore')\n",
    "\n",
    "# ⚖️ Scale features (without including tconst)\n",
    "scaler = StandardScaler()\n",
    "scaled_features = scaler.fit_transform(df_train)\n",
    "\n",
    "# 🧾 Create scaled DataFrame (no 'tconst' column)\n",
    "df_scaled = pd.DataFrame(scaled_features, columns=df_train.columns)\n",
    "\n",
    "# 🤖 Train KNN model (only on scaled features, without tconst)\n",
    "knn_model = NearestNeighbors(n_neighbors=6, metric='cosine')\n",
    "knn_model.fit(scaled_features)\n",
    "\n",
    "# Check columns of df_train (used for training) and df_scaled\n",
    "print(\"Training columns:\", df_train.columns)\n",
    "print(\"Scaled data columns:\", df_scaled.columns)\n",
    "\n",
    "# 💾 Save model and data\n",
    "df_train.reset_index(inplace=True)  # Reset index so that tconst can be saved in movies.csv\n",
    "df_train.to_csv(\"movies.csv\", index=False)\n",
    "\n",
    "df_scaled.to_csv(\"scaled_features.csv\", index=False)\n",
    "\n",
    "# Save KNN model to file\n",
    "with open(\"knn_model.pkl\", \"wb\") as f:\n",
    "    pickle.dump(knn_model, f)\n",
    "\n",
    "print(\"✅ Model, data, and scaled features saved for Flask API.\")\n"
   ]
  },
  {
   "cell_type": "code",
   "execution_count": null,
   "id": "7697eb6c-c786-4dc8-9f67-b8ea68ad5a9f",
   "metadata": {},
   "outputs": [],
   "source": []
  }
 ],
 "metadata": {
  "kernelspec": {
   "display_name": "base",
   "language": "python",
   "name": "python3"
  },
  "language_info": {
   "codemirror_mode": {
    "name": "ipython",
    "version": 3
   },
   "file_extension": ".py",
   "mimetype": "text/x-python",
   "name": "python",
   "nbconvert_exporter": "python",
   "pygments_lexer": "ipython3",
   "version": "3.12.7"
  }
 },
 "nbformat": 4,
 "nbformat_minor": 5
}
