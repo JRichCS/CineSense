{
 "cells": [
  {
   "cell_type": "code",
   "execution_count": 1,
   "id": "ae784cdd",
   "metadata": {},
   "outputs": [
    {
     "name": "stdout",
     "output_type": "stream",
     "text": [
      "✅ Model, data, and scaled features saved for Flask API.\n"
     ]
    }
   ],
   "source": [
    "\n",
    "# 📦 Imports\n",
    "import pandas as pd\n",
    "import numpy as np\n",
    "from sklearn.preprocessing import StandardScaler\n",
    "from sklearn.neighbors import NearestNeighbors\n",
    "import pickle\n",
    "\n",
    "# 📂 Load the dataset\n",
    "df = pd.read_csv(\"movieDataset.csv\")\n",
    "\n",
    "# 🧹 Clean and Weight Features\n",
    "# (Make sure the weighted columns exist)\n",
    "for col in ['directors_count', 'actor1_count', 'actor2_count', 'rating']:\n",
    "    if col in df.columns:\n",
    "        if col == 'directors_count':\n",
    "            df[col] *= 3\n",
    "        elif col in ['actor1_count', 'actor2_count', 'rating']:\n",
    "            df[col] *= 2\n",
    "\n",
    "# 🧼 Drop irrelevant columns for training\n",
    "df_train = df.drop(columns=['tconst', 'primaryTitle', 'startYear'], errors='ignore')\n",
    "\n",
    "# ⚖️ Scale features\n",
    "scaler = StandardScaler()\n",
    "scaled_features = scaler.fit_transform(df_train)\n",
    "df_scaled = pd.DataFrame(scaled_features, columns=df_train.columns)\n",
    "\n",
    "# 🤖 Train KNN model\n",
    "knn_model = NearestNeighbors(n_neighbors=6, metric='cosine')\n",
    "knn_model.fit(df_scaled)\n",
    "\n",
    "# 💾 Save model and data\n",
    "df.to_csv(\"movies.csv\", index=False)\n",
    "df_scaled.to_csv(\"scaled_features.csv\", index=False)\n",
    "\n",
    "with open(\"knn_model.pkl\", \"wb\") as f:\n",
    "    pickle.dump(knn_model, f)\n",
    "\n",
    "print(\"✅ Model, data, and scaled features saved for Flask API.\")\n"
   ]
  },
  {
   "cell_type": "code",
   "execution_count": null,
   "id": "7697eb6c-c786-4dc8-9f67-b8ea68ad5a9f",
   "metadata": {},
   "outputs": [],
   "source": []
  }
 ],
 "metadata": {
  "kernelspec": {
   "display_name": "Python [conda env:base] *",
   "language": "python",
   "name": "conda-base-py"
  },
  "language_info": {
   "codemirror_mode": {
    "name": "ipython",
    "version": 3
   },
   "file_extension": ".py",
   "mimetype": "text/x-python",
   "name": "python",
   "nbconvert_exporter": "python",
   "pygments_lexer": "ipython3",
   "version": "3.12.7"
  }
 },
 "nbformat": 4,
 "nbformat_minor": 5
}
